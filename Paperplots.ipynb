{
 "cells": [
  {
   "cell_type": "code",
   "execution_count": 103,
   "metadata": {},
   "outputs": [],
   "source": [
    "from astropy.table import Table\n",
    "import matplotlib.pyplot as plt\n",
    "import numpy as np\n",
    "\n",
    "results1 = Table.read(\"pipeline_result.csv\", format=\"csv\")\n",
    "results2 = Table.read(\"pipeline_result_gridded.csv\", format=\"csv\")\n",
    "inputs = Table.read(\"data/pointlog.txt\", format=\"ascii\")\n",
    "sexresults = Table.read(\"data/sexresult.txt\", format=\"ascii\")"
   ]
  },
  {
   "cell_type": "code",
   "execution_count": 75,
   "metadata": {},
   "outputs": [
    {
     "data": {
      "image/png": "[encoded data removed]",
      "text/plain": [
       "<matplotlib.figure.Figure at 0x18c2adc5748>"
      ]
     },
     "metadata": {},
     "output_type": "display_data"
    }
   ],
   "source": [
    "\n",
    "plt.figure(figsize=(5,5))\n",
    "plt.axes().set_aspect(\"equal\")\n",
    "plt.scatter(inputs['r']*2,sexresults['Radius'],s=1.5, c='green')\n",
    "plt.scatter(inputs['r']*2,results1['Distance'],s=1, c='red')\n",
    "#plt.scatter(inputs['r']*2,results2['Distance'],s=0.2, c='green')\n",
    "\n",
    "plt.plot([0,20],[0,20],c='blue', alpha=0.5)\n",
    "\n",
    "plt.savefig(\"result1.png\")\n",
    "\n",
    "plt.show()"
   ]
  },
  {
   "cell_type": "code",
   "execution_count": 163,
   "metadata": {},
   "outputs": [
    {
     "data": {
      "image/png": "[encoded data removed]",
      "text/plain": [
       "<matplotlib.figure.Figure at 0x18c2b438358>"
      ]
     },
     "metadata": {},
     "output_type": "display_data"
    }
   ],
   "source": [
    "\n",
    "\n",
    "def makebins(inputs, results, rkey):\n",
    "    binset = {}\n",
    "    for i in range(len(results)):\n",
    "        if results[rkey][i]>0:\n",
    "            if 2*inputs['r'][i] in binset:\n",
    "                binset[2*inputs['r'][i]].append(results[rkey][i])\n",
    "            else:\n",
    "                binset[2*inputs['r'][i]] = [results[rkey][i]]\n",
    "                \n",
    "    newbinset = {}\n",
    "    for key in sorted(binset):\n",
    "        newbinset[key] = binset[key]\n",
    "\n",
    "    binset=newbinset\n",
    "\n",
    "    rval = list(binset.keys())\n",
    "    \n",
    "    median = []\n",
    "    lower = []\n",
    "    upper = []\n",
    "\n",
    "    for datum in binset:\n",
    "        m = np.percentile(binset[datum],50)\n",
    "        median.append(m)\n",
    "        lower.append(m-np.percentile(binset[datum],10))\n",
    "        upper.append(np.percentile(binset[datum],90)-m)\n",
    "    \n",
    "    return rval,median,upper,lower\n",
    "\n",
    "\n",
    "plt.figure(figsize=(5,5))\n",
    "plt.axes().set_aspect(\"equal\")\n",
    "\n",
    "rval,median,upper,lower = makebins(inputs, results1, 'Distance')\n",
    "plt.errorbar(rval, median, yerr=[lower,upper],c='red')\n",
    "\n",
    "rval,sexmed,sexup,sexlow = makebins(inputs,sexresults, 'Radius')\n",
    "for i in range(len(rval)):\n",
    "    rval[i] += 0.2\n",
    "plt.errorbar(rval, sexmed, yerr=[sexlow,sexup],c='green')\n",
    "\n",
    "plt.plot([0,20],[0,20],c='blue', alpha=0.5)\n",
    "\n",
    "bmin = 11.2539052963215\n",
    "bmaj = 16.62424564361627\n",
    "plt.plot([bmin,bmin],[0,20],c='black', alpha=0.1)\n",
    "plt.plot([bmaj,bmaj],[0,20],c='black', alpha=0.1)\n",
    "\n",
    "plt.savefig(\"result2.png\")\n",
    "plt.show()"
   ]
  },
  {
   "cell_type": "code",
   "execution_count": null,
   "metadata": {
    "collapsed": true
   },
   "outputs": [],
   "source": []
  }
 ],
 "metadata": {
  "kernelspec": {
   "display_name": "Python 3",
   "language": "python",
   "name": "python3"
  },
  "language_info": {
   "codemirror_mode": {
    "name": "ipython",
    "version": 3
   },
   "file_extension": ".py",
   "mimetype": "text/x-python",
   "name": "python",
   "nbconvert_exporter": "python",
   "pygments_lexer": "ipython3",
   "version": "3.6.3"
  }
 },
 "nbformat": 4,
 "nbformat_minor": 2
}
