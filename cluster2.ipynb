{
 "cells": [
  {
   "cell_type": "code",
   "execution_count": 124,
   "metadata": {
    "collapsed": true
   },
   "outputs": [],
   "source": [
    "import numpy as np\n",
    "from astropy.table import Table,vstack\n",
    "import matplotlib.pyplot as plt\n",
    "from astropy.io import fits\n",
    "\n",
    "maxindex = 100\n",
    "stack = []\n",
    "\n",
    "inputs = Table.read(\"data/pointlog.txt\", format=\"ascii\")\n",
    "\n",
    "for index in range(maxindex):\n",
    "    stack.append(Table.read(\"data/results_{}.txt\".format(index), format=\"ascii\"))\n",
    "                            \n",
    "def modellist(rtable):\n",
    "    model = Table(names=rtable.colnames)\n",
    "    oldk = rtable[0]['k']\n",
    "    for row in rtable:\n",
    "        if row['k']==oldk:\n",
    "            model = vstack([model,row])\n",
    "        else:\n",
    "            yield model\n",
    "            model = Table(row, names=rtable.colnames, )\n",
    "        oldk = row['k']\n",
    "    yield model"
   ]
  },
  {
   "cell_type": "code",
   "execution_count": 98,
   "metadata": {},
   "outputs": [
    {
     "data": {
      "text/plain": [
       "{'516616': 9,\n",
       " '516617': 70,\n",
       " '517641': 5,\n",
       " '521730': 3,\n",
       " '522748': 4,\n",
       " '522750': 20,\n",
       " '522751': 5,\n",
       " '523773': 8,\n",
       " '523774': 11,\n",
       " '523775': 5,\n",
       " '523776': 3,\n",
       " '523778': 3,\n",
       " '524798': 4,\n",
       " '524802': 4,\n",
       " '525825': 29,\n",
       " '525826': 38,\n",
       " '526848': 4,\n",
       " '526849': 3,\n",
       " '528894': 3}"
      ]
     },
     "execution_count": 98,
     "metadata": {},
     "output_type": "execute_result"
    }
   ],
   "source": [
    "cellhist = {}\n",
    "\n",
    "threshold = 3\n",
    "\n",
    "resultid = 3\n",
    "\n",
    "# Bin up the results\n",
    "for row in stack[resultid]:\n",
    "    rkey = str(int(row['cell']))\n",
    "    if rkey in cellhist:\n",
    "        cellhist[rkey] += 1\n",
    "    else:\n",
    "        cellhist[rkey] = 1\n",
    "\n",
    "# Clear out the noiseh\n",
    "noise = []        \n",
    "for key in cellhist:\n",
    "    if cellhist[key]<threshold:\n",
    "        noise.append(key)\n",
    "        \n",
    "for key in noise:\n",
    "    cellhist.pop(key, None)\n",
    "        \n",
    "cellhist\n"
   ]
  },
  {
   "cell_type": "code",
   "execution_count": 99,
   "metadata": {
    "scrolled": false
   },
   "outputs": [
    {
     "name": "stdout",
     "output_type": "stream",
     "text": [
      "['522750', '525825', '516617', '525826', '517641', '523773', '522748', '516616', '523776', '523774', '526849', '524798', '524802', '523778', '528894', '522751', '523775', '526848', '521730']\n",
      "{'522750': 20, '525825': 29, '516617': 70, '525826': 38, '517641': 5, '523773': 8, '522748': 4, '516616': 9, '523776': 3, '523774': 11, '526849': 3, '524798': 4, '524802': 4, '523778': 3, '528894': 3, '522751': 5, '523775': 5, '526848': 4, '521730': 3}\n",
      "  ID   522750 525825 516617 525826 517641 ... 528894 522751 523775 526848 521730\n",
      "------ ------ ------ ------ ------ ------ ... ------ ------ ------ ------ ------\n",
      "522750 20.000  9.000 17.000  9.000  0.000 ...  0.000  0.000  0.000  0.000  0.000\n",
      "525825  9.000 29.000 21.000  0.000  1.000 ...  0.000  1.000  0.000  0.000  0.000\n",
      "516617 17.000 21.000 70.000 31.000  0.000 ...  3.000  3.000  4.000  4.000  3.000\n",
      "525826  9.000  0.000 31.000 38.000  4.000 ...  0.000  0.000  5.000  0.000  0.000\n",
      "517641  0.000  1.000  0.000  4.000  5.000 ...  0.000  0.000  0.000  0.000  0.000\n",
      "523773  0.000  4.000  4.000  4.000  2.000 ...  0.000  0.000  0.000  0.000  0.000\n",
      "522748  0.000  2.000  3.000  2.000  0.000 ...  0.000  0.000  0.000  0.000  0.000\n",
      "516616  2.000  5.000  0.000  3.000  0.000 ...  0.000  2.000  1.000  0.000  0.000\n",
      "523776  0.000  0.000  3.000  3.000  0.000 ...  0.000  0.000  0.000  0.000  0.000\n",
      "523774  0.000  5.000  9.000  6.000  1.000 ...  0.000  0.000  0.000  0.000  0.000\n",
      "526849  0.000  0.000  2.000  0.000  0.000 ...  0.000  2.000  0.000  0.000  0.000\n",
      "524798  0.000  3.000  4.000  1.000  0.000 ...  0.000  0.000  0.000  0.000  0.000\n",
      "524802  1.000  0.000  4.000  0.000  0.000 ...  0.000  2.000  0.000  0.000  0.000\n",
      "523778  0.000  0.000  3.000  0.000  0.000 ...  2.000  0.000  0.000  0.000  0.000\n",
      "528894  0.000  0.000  3.000  0.000  0.000 ...  3.000  0.000  0.000  0.000  0.000\n",
      "522751  0.000  1.000  3.000  0.000  0.000 ...  0.000  5.000  0.000  0.000  0.000\n",
      "523775  0.000  0.000  4.000  5.000  0.000 ...  0.000  0.000  5.000  0.000  0.000\n",
      "526848  0.000  0.000  4.000  0.000  0.000 ...  0.000  0.000  0.000  4.000  1.000\n",
      "521730  0.000  0.000  3.000  0.000  0.000 ...  0.000  0.000  0.000  1.000  3.000\n",
      "  ID   522750 525825 516617 525826 517641 ... 528894 522751 523775 526848 521730\n",
      "------ ------ ------ ------ ------ ------ ... ------ ------ ------ ------ ------\n",
      "522750  0.000 20.000 53.000 29.000  5.000 ...  3.000  5.000  5.000  4.000  3.000\n",
      "525825 11.000  0.000 49.000 38.000  4.000 ...  3.000  4.000  5.000  4.000  3.000\n",
      "516617  3.000  8.000  0.000  7.000  5.000 ...  0.000  2.000  1.000  0.000  0.000\n",
      "525826 11.000 29.000 39.000  0.000  1.000 ...  3.000  5.000  0.000  4.000  3.000\n",
      "517641 20.000 28.000 70.000 34.000  0.000 ...  3.000  5.000  5.000  4.000  3.000\n",
      "523773 20.000 25.000 66.000 34.000  3.000 ...  3.000  5.000  5.000  4.000  3.000\n",
      "522748 20.000 27.000 67.000 36.000  5.000 ...  3.000  5.000  5.000  4.000  3.000\n",
      "516616 18.000 24.000 70.000 35.000  5.000 ...  3.000  3.000  4.000  4.000  3.000\n",
      "523776 20.000 29.000 67.000 35.000  5.000 ...  3.000  5.000  5.000  4.000  3.000\n",
      "523774 20.000 24.000 61.000 32.000  4.000 ...  3.000  5.000  5.000  4.000  3.000\n",
      "526849 20.000 29.000 68.000 38.000  5.000 ...  3.000  3.000  5.000  4.000  3.000\n",
      "524798 20.000 26.000 66.000 37.000  5.000 ...  3.000  5.000  5.000  4.000  3.000\n",
      "524802 19.000 29.000 66.000 38.000  5.000 ...  3.000  3.000  5.000  4.000  3.000\n",
      "523778 20.000 29.000 67.000 38.000  5.000 ...  1.000  5.000  5.000  4.000  3.000\n",
      "528894 20.000 29.000 67.000 38.000  5.000 ...  0.000  5.000  5.000  4.000  3.000\n",
      "522751 20.000 28.000 67.000 38.000  5.000 ...  3.000  0.000  5.000  4.000  3.000\n",
      "523775 20.000 29.000 66.000 33.000  5.000 ...  3.000  5.000  0.000  4.000  3.000\n",
      "526848 20.000 29.000 66.000 38.000  5.000 ...  3.000  5.000  5.000  0.000  2.000\n",
      "521730 20.000 29.000 67.000 38.000  5.000 ...  3.000  5.000  5.000  3.000  0.000\n"
     ]
    }
   ],
   "source": [
    "keylist = list(cellhist.keys())\n",
    "\n",
    "print(keylist)\n",
    "\n",
    "cellcorr = Table(names=['ID'] + keylist)\n",
    "cellanticorr = Table(names=['ID'] + keylist)\n",
    "cellcorr['ID'].dtype = 'int32'\n",
    "cellanticorr['ID'].dtype = 'int32'\n",
    "\n",
    "for i in range(len(cellhist)):\n",
    "    cellcorr.add_row([keylist[i]]+[0]*len(cellhist))\n",
    "    cellanticorr.add_row([keylist[i]]+[0]*len(cellhist))\n",
    "    cellcorr[keylist[i]].format = \"%.3f\"\n",
    "    cellanticorr[keylist[i]].format = \"%.3f\"\n",
    "\n",
    "n = 0    \n",
    "testset = []\n",
    "for model in modellist(stack[resultid]):\n",
    "    n+=1\n",
    "    if 518650 in model['cell']:\n",
    "        testset.append(model['cell'])\n",
    "    for A in cellhist:\n",
    "        for B in cellhist:\n",
    "            if int(A) in model['cell']:\n",
    "                if int(B) in model['cell']:\n",
    "                    cellcorr[A][keylist.index(B)] +=1.0#/float(cellhist[A])\n",
    "                else:\n",
    "                    cellanticorr[A][keylist.index(B)] +=1.0#/float(cellhist[A])\n",
    "\n",
    "print(cellhist)\n",
    "print(cellcorr)\n",
    "print(cellanticorr)"
   ]
  },
  {
   "cell_type": "code",
   "execution_count": 125,
   "metadata": {
    "scrolled": false
   },
   "outputs": [
    {
     "name": "stdout",
     "output_type": "stream",
     "text": [
      "522750 1022 1022\n",
      "525825 1025 1025\n",
      "516617 1033 1016\n",
      "525826 1026 1025\n",
      "517641 1033 1017\n",
      "523773 1021 1023\n",
      "522748 1020 1022\n",
      "516616 1032 1016\n",
      "523776 1024 1023\n",
      "523774 1022 1023\n",
      "526849 1025 1026\n",
      "524798 1022 1024\n",
      "524802 1026 1024\n",
      "523778 1026 1023\n",
      "528894 1022 1028\n",
      "522751 1023 1022\n",
      "523775 1023 1023\n",
      "526848 1024 1026\n",
      "521730 1026 1021\n"
     ]
    },
    {
     "data": {
      "image/png": "[encoded data removed]",
      "text/plain": [
       "<matplotlib.figure.Figure at 0x215b6794780>"
      ]
     },
     "metadata": {},
     "output_type": "display_data"
    },
    {
     "name": "stdout",
     "output_type": "stream",
     "text": [
      "1028.67509475 1020.23921695\n"
     ]
    },
    {
     "data": {
      "image/png": "[encoded data removed]",
      "text/plain": [
       "<matplotlib.figure.Figure at 0x215c173d438>"
      ]
     },
     "metadata": {},
     "output_type": "display_data"
    },
    {
     "data": {
      "image/png": "[encoded data removed]",
      "text/plain": [
       "<matplotlib.figure.Figure at 0x215b4c49080>"
      ]
     },
     "metadata": {},
     "output_type": "display_data"
    }
   ],
   "source": [
    "x = []\n",
    "y = []\n",
    "for index in cellhist:\n",
    "    position = int(index)\n",
    "    ny = int(float(position)/1024.0) \n",
    "    nx = position-ny*1024 \n",
    "    x.append(nx+512)\n",
    "    y.append(ny+512)\n",
    "    print(index,nx+512,ny+512)\n",
    "\n",
    "margin = 8\n",
    "\n",
    "plt.axes().set_aspect(\"equal\")\n",
    "plt.xlim(min(x)-margin, max(x)+margin)\n",
    "plt.ylim(min(y)-margin, max(y)+margin)\n",
    "plt.scatter(x,y)\n",
    "\n",
    "for row in cellhist:\n",
    "    for colindex in range(len(cellhist)):\n",
    "        value = cellcorr[row][colindex]\n",
    "        col = list(cellhist.keys())[colindex]\n",
    "        if value==0.0:\n",
    "            position = int(row)\n",
    "            ay = int(float(position)/1024.0)\n",
    "            ax = position-ay*1024      \n",
    "            ax += 512\n",
    "            ay += 512\n",
    "            position = int(col)\n",
    "            by = int(float(position)/1024.0)\n",
    "            bx = position-by*1024\n",
    "            bx += 512\n",
    "            by += 512\n",
    "            r = np.sqrt((bx-ax)*(bx-ax) + (by-ay)*(by-ay))\n",
    "            if r<3:\n",
    "                plt.plot([ax,bx],[ay,by])\n",
    "\n",
    "plt.show()\n",
    "\n",
    "dmap = fits.open(\"data/simmap{}.alma.cycle2.6.noisy.image.fits\".format(resultid))\n",
    "plt.imshow(dmap[0].data[0,0])\n",
    "plt.scatter(x,y, s=0.5, c='black')\n",
    "\n",
    "realx = 1024+inputs[resultid]['r']*np.sin(inputs[resultid]['theta'])\n",
    "realy = 1024+inputs[resultid]['r']*np.cos(inputs[resultid]['theta'])\n",
    "print(realx,realy)\n",
    "plt.scatter([1024,realx], [1024,realy], c='red')\n",
    "\n",
    "plt.xlim(min(x)-margin, max(x)+margin)\n",
    "plt.ylim(min(y)-margin, max(y)+margin)\n",
    "plt.show()\n",
    "\n",
    "rawmap = fits.open(\"data/simmap_{}.fits\".format(resultid))\n",
    "plt.imshow(rawmap[0].data[0,0])\n",
    "plt.scatter((np.array(x)-512)/2.,(np.array(y)-512)/2., s=0.5, c='white')\n",
    "\n",
    "plt.xlim(min(x)-margin-768, max(x)+margin-768)\n",
    "plt.ylim(min(y)-margin-768, max(y)+margin-768)\n",
    "plt.show()"
   ]
  },
  {
   "cell_type": "code",
   "execution_count": null,
   "metadata": {
    "collapsed": true
   },
   "outputs": [],
   "source": []
  }
 ],
 "metadata": {
  "kernelspec": {
   "display_name": "Python 3",
   "language": "python",
   "name": "python3"
  },
  "language_info": {
   "codemirror_mode": {
    "name": "ipython",
    "version": 3
   },
   "file_extension": ".py",
   "mimetype": "text/x-python",
   "name": "python",
   "nbconvert_exporter": "python",
   "pygments_lexer": "ipython3",
   "version": "3.6.3"
  }
 },
 "nbformat": 4,
 "nbformat_minor": 2
}
