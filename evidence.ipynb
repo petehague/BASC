{
 "cells": [
  {
   "cell_type": "code",
   "execution_count": 1,
   "metadata": {
    "collapsed": true
   },
   "outputs": [],
   "source": [
    "import matplotlib.pyplot as plt\n",
    "import sys\n",
    "\n",
    "sys.path.append(\"build/lib.macosx-10.12-intel-2.7\")\n",
    "\n",
    "import basc\n",
    "\n",
    "basc=reload(basc)\n",
    "\n",
    "basc.readConfig(\"config.txt\")\n",
    "basc.setOption(\"Iseed\", 54321)\n",
    "basc.setOption(\"Ensemble\", 20)\n"
   ]
  },
  {
   "cell_type": "code",
   "execution_count": 2,
   "metadata": {
    "collapsed": false
   },
   "outputs": [],
   "source": [
    "v = basc.view()\n",
    "v.loadMap(\"data/new15.alma.cycle2.6.noisy.image.fits\")\n",
    "v.loadBeam(\"data/new15.alma.cycle2.6.noisy.psf.fits\")\n",
    "v.loadPBCor(\"data/new15.alma.cycle2.6.noisy.flux.fits\")"
   ]
  },
  {
   "cell_type": "code",
   "execution_count": 3,
   "metadata": {
    "collapsed": false
   },
   "outputs": [],
   "source": [
    "v.run()\n",
    "result = v.getChain()"
   ]
  },
  {
   "cell_type": "code",
   "execution_count": 4,
   "metadata": {
    "collapsed": false
   },
   "outputs": [
    {
     "data": {
      "image/png": "[encoded data removed]",
      "text/plain": [
       "<matplotlib.figure.Figure at 0x104bd6c50>"
      ]
     },
     "metadata": {},
     "output_type": "display_data"
    }
   ],
   "source": [
    "plt.scatter(result['x'], result['y'], s=0.1)\n",
    "plt.show()"
   ]
  },
  {
   "cell_type": "code",
   "execution_count": 5,
   "metadata": {
    "collapsed": false
   },
   "outputs": [
    {
     "data": {
      "text/html": [
       "&lt;Table length=301&gt;\n",
       "<table id=\"table4492132240\" class=\"table-striped table-bordered table-condensed\">\n",
       "<thead><tr><th>x</th><th>y</th><th>F</th><th>k</th><th>L</th></tr></thead>\n",
       "<thead><tr><th>float64</th><th>float64</th><th>float64</th><th>int64</th><th>float64</th></tr></thead>\n",
       "<tr><td>512.950832725</td><td>511.108532548</td><td>0.0992574990096</td><td>0</td><td>1106.35212781</td></tr>\n",
       "<tr><td>540.214270473</td><td>447.102365375</td><td>0.0991319469698</td><td>0</td><td>1106.35212781</td></tr>\n",
       "<tr><td>539.719026208</td><td>448.003974557</td><td>0.0960793663814</td><td>1</td><td>1104.96986852</td></tr>\n",
       "<tr><td>512.068226218</td><td>513.110337377</td><td>0.0959042136792</td><td>1</td><td>1104.96986852</td></tr>\n",
       "<tr><td>539.849464059</td><td>448.300156713</td><td>0.102026621238</td><td>2</td><td>1101.59497603</td></tr>\n",
       "<tr><td>575.813988805</td><td>193.341175914</td><td>0.00187531658825</td><td>2</td><td>1101.59497603</td></tr>\n",
       "<tr><td>513.536198258</td><td>510.304862142</td><td>0.10045265771</td><td>2</td><td>1101.59497603</td></tr>\n",
       "<tr><td>512.425801158</td><td>513.982676864</td><td>0.0992060114739</td><td>3</td><td>1105.95423527</td></tr>\n",
       "<tr><td>539.747540832</td><td>446.681570649</td><td>0.102074379468</td><td>3</td><td>1105.95423527</td></tr>\n",
       "<tr><td>511.392173171</td><td>513.743811965</td><td>0.102856252789</td><td>4</td><td>1100.3058959</td></tr>\n",
       "<tr><td>...</td><td>...</td><td>...</td><td>...</td><td>...</td></tr>\n",
       "<tr><td>511.10821116</td><td>512.57434237</td><td>0.100176936155</td><td>106</td><td>1106.1949641</td></tr>\n",
       "<tr><td>539.584694505</td><td>446.963133216</td><td>0.0986166888346</td><td>107</td><td>1106.86180585</td></tr>\n",
       "<tr><td>512.54271996</td><td>512.996201873</td><td>0.101505383153</td><td>107</td><td>1106.86180585</td></tr>\n",
       "<tr><td>1005.11789286</td><td>250.185386539</td><td>0.000720377992256</td><td>107</td><td>1106.86180585</td></tr>\n",
       "<tr><td>310.452251792</td><td>863.872697473</td><td>0.00134349441858</td><td>107</td><td>1106.86180585</td></tr>\n",
       "<tr><td>539.700648189</td><td>448.904551625</td><td>0.0978449975839</td><td>108</td><td>1104.43859332</td></tr>\n",
       "<tr><td>513.153074861</td><td>513.977651715</td><td>0.0965177649091</td><td>108</td><td>1104.43859332</td></tr>\n",
       "<tr><td>539.729591489</td><td>448.061457992</td><td>0.099440336661</td><td>109</td><td>1107.07970142</td></tr>\n",
       "<tr><td>512.156714082</td><td>512.077619433</td><td>0.100666899306</td><td>109</td><td>1107.07970142</td></tr>\n",
       "<tr><td>539.482605577</td><td>445.397572398</td><td>0.0985362334051</td><td>110</td><td>1104.18743059</td></tr>\n",
       "</table>"
      ],
      "text/plain": [
       "<Table length=301>\n",
       "      x             y               F           k         L      \n",
       "   float64       float64         float64      int64    float64   \n",
       "------------- ------------- ----------------- ----- -------------\n",
       "512.950832725 511.108532548   0.0992574990096     0 1106.35212781\n",
       "540.214270473 447.102365375   0.0991319469698     0 1106.35212781\n",
       "539.719026208 448.003974557   0.0960793663814     1 1104.96986852\n",
       "512.068226218 513.110337377   0.0959042136792     1 1104.96986852\n",
       "539.849464059 448.300156713    0.102026621238     2 1101.59497603\n",
       "575.813988805 193.341175914  0.00187531658825     2 1101.59497603\n",
       "513.536198258 510.304862142     0.10045265771     2 1101.59497603\n",
       "512.425801158 513.982676864   0.0992060114739     3 1105.95423527\n",
       "539.747540832 446.681570649    0.102074379468     3 1105.95423527\n",
       "511.392173171 513.743811965    0.102856252789     4  1100.3058959\n",
       "          ...           ...               ...   ...           ...\n",
       " 511.10821116  512.57434237    0.100176936155   106  1106.1949641\n",
       "539.584694505 446.963133216   0.0986166888346   107 1106.86180585\n",
       " 512.54271996 512.996201873    0.101505383153   107 1106.86180585\n",
       "1005.11789286 250.185386539 0.000720377992256   107 1106.86180585\n",
       "310.452251792 863.872697473  0.00134349441858   107 1106.86180585\n",
       "539.700648189 448.904551625   0.0978449975839   108 1104.43859332\n",
       "513.153074861 513.977651715   0.0965177649091   108 1104.43859332\n",
       "539.729591489 448.061457992    0.099440336661   109 1107.07970142\n",
       "512.156714082 512.077619433    0.100666899306   109 1107.07970142\n",
       "539.482605577 445.397572398   0.0985362334051   110 1104.18743059"
      ]
     },
     "execution_count": 5,
     "metadata": {},
     "output_type": "execute_result"
    }
   ],
   "source": [
    "result"
   ]
  },
  {
   "cell_type": "code",
   "execution_count": null,
   "metadata": {
    "collapsed": true
   },
   "outputs": [],
   "source": []
  }
 ],
 "metadata": {
  "kernelspec": {
   "display_name": "Python 2",
   "language": "python",
   "name": "python2"
  },
  "language_info": {
   "codemirror_mode": {
    "name": "ipython",
    "version": 2
   },
   "file_extension": ".py",
   "mimetype": "text/x-python",
   "name": "python",
   "nbconvert_exporter": "python",
   "pygments_lexer": "ipython2",
   "version": "2.7.13"
  }
 },
 "nbformat": 4,
 "nbformat_minor": 2
}
