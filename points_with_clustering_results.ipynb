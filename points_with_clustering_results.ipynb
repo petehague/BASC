{
 "cells": [
  {
   "cell_type": "markdown",
   "metadata": {},
   "source": [
    "## 1. Read in the Results_x.txt files"
   ]
  },
  {
   "cell_type": "code",
   "execution_count": 34,
   "metadata": {
    "collapsed": false
   },
   "outputs": [
    {
     "data": {
      "text/plain": [
       "array([[  1.20400000e+05,   8.81737755e+02,   8.71213380e+02, ...,\n",
       "          8.82000000e+02,   8.71000000e+02,   8.92786000e+05],\n",
       "       [  1.20400000e+05,   5.06503370e+02,   5.06356338e+02, ...,\n",
       "          5.07000000e+02,   5.06000000e+02,   5.18651000e+05],\n",
       "       [  1.20400000e+05,   5.12605168e+02,   5.12453184e+02, ...,\n",
       "          5.13000000e+02,   5.12000000e+02,   5.24801000e+05],\n",
       "       ..., \n",
       "       [  1.20509000e+05,   3.37720943e+02,   2.99699980e+02, ...,\n",
       "          3.38000000e+02,   3.00000000e+02,   3.07538000e+05],\n",
       "       [  1.20509000e+05,   9.56620923e+02,   1.02912988e+02, ...,\n",
       "          9.57000000e+02,   1.03000000e+02,   1.06429000e+05],\n",
       "       [  1.20509000e+05,   5.12837829e+02,   5.12657879e+02, ...,\n",
       "          5.13000000e+02,   5.13000000e+02,   5.25825000e+05]])"
      ]
     },
     "execution_count": 34,
     "metadata": {},
     "output_type": "execute_result"
    }
   ],
   "source": [
    "import matplotlib.pyplot as plt\n",
    "import numpy as np\n",
    "\n",
    "filename = 'results_0.txt'\n",
    "infile = open(filename, 'r')\n",
    "infile.readline()  # skip the first line\n",
    "data = [line.split() for line in infile]\n",
    "infile.close()\n",
    "Data_original = [float(j) for j in data[0]]\n",
    "for i in range(1,len(data)):\n",
    "    Data_original = np.vstack([Data_original,[float(j) for j in data[i]]])\n",
    "\n",
    "Data_c = Data_original\n",
    "Data_c"
   ]
  },
  {
   "cell_type": "code",
   "execution_count": 6,
   "metadata": {
    "collapsed": false
   },
   "outputs": [],
   "source": [
    "Data_vxy = Data_c[:,1:3]\n",
    "n = 0\n",
    "col_num = []\n",
    "for i in range(1,len(Data_c)):\n",
    "    if Data_c[i,0] == Data_c[i-1,0]:\n",
    "        n += 1\n",
    "    else:\n",
    "        col_num += [n+1]\n",
    "        n = 0\n",
    "atom_max = int(np.max(col_num))"
   ]
  },
  {
   "cell_type": "markdown",
   "metadata": {},
   "source": [
    "## 2. Applying clustering algorithm"
   ]
  },
  {
   "cell_type": "code",
   "execution_count": 8,
   "metadata": {
    "collapsed": false,
    "scrolled": true
   },
   "outputs": [
    {
     "name": "stdout",
     "output_type": "stream",
     "text": [
      "('We find', 2, 'atoms')\n",
      "('There are', 81, 'outliers. Please have a look at them.')\n"
     ]
    },
    {
     "data": {
      "image/png": "[encoded data removed]",
      "text/plain": [
       "<matplotlib.figure.Figure at 0x10c572410>"
      ]
     },
     "metadata": {},
     "output_type": "display_data"
    },
    {
     "name": "stdout",
     "output_type": "stream",
     "text": [
      "You can change the variables: eps and min_samples\n",
      "Please increase eps if you get too many atoms or there are outliers\n",
      "Please increase min_samples if you get too many atoms\n",
      "('You chose eps =', 5, 'and min_samples =', 10)\n",
      "Type in the new eps that you want to test(0 to stop): 0\n",
      "Type in the new min_samples that you want to test(0 to stop): 0\n",
      "('The', 2, 'cluster centers are \\n', array([[ 506.33193173,  506.32664108],\n",
      "       [ 512.65997884,  512.62459486]]))\n"
     ]
    },
    {
     "data": {
      "image/png": "[encoded data removed]",
      "text/plain": [
       "<matplotlib.figure.Figure at 0x10c543210>"
      ]
     },
     "metadata": {},
     "output_type": "display_data"
    },
    {
     "name": "stdout",
     "output_type": "stream",
     "text": [
      "Do you want to try one more time to find the cluster?(y/n)\n",
      "'n'\n"
     ]
    }
   ],
   "source": [
    "import matplotlib.pyplot as plt\n",
    "from sklearn.cluster import DBSCAN\n",
    "from sklearn import metrics\n",
    "from sklearn.datasets.samples_generator import make_blobs\n",
    "from sklearn.preprocessing import StandardScaler\n",
    "\n",
    "def find_center(Data, atom_max, min_samples = 10, eps = 5):\n",
    "    \"\"\"\n",
    "    find the centers for each data set using DBSCAN.\n",
    "    Data should be a n*2 array.\n",
    "    \"\"\"\n",
    "    while(eps and min_samples):\n",
    "        db = DBSCAN(eps, min_samples).fit(Data)\n",
    "        core_samples_mask = np.zeros_like(db.labels_, dtype=bool)\n",
    "        core_samples_mask[db.core_sample_indices_] = True\n",
    "        labels = db.labels_\n",
    "        atom = len(set(labels)) - (1 if -1 in labels else 0) # number of atoms\n",
    "        print ('We find', atom, 'atoms')\n",
    "        if atom > atom_max:\n",
    "            print ('You need to increase the variable: min_samples')\n",
    "            print (atom, 'is even bigger than the possible biggest atom number', atom_max)\n",
    "        unique_labels = set(labels)\n",
    "        noise_label = (labels == -1)\n",
    "        noise = Data[noise_label & ~core_samples_mask]\n",
    "        if len(noise) == 0:\n",
    "            print ('There is no outlier.')\n",
    "        else:\n",
    "            print ('There are', len(noise), 'outliers. Please have a look at them.')\n",
    "            plt.scatter(noise[:,0], noise[:,1])\n",
    "            plt.title('Outliers')\n",
    "            #plt.xlim([0,1])\n",
    "            #plt.ylim([0,1])\n",
    "            plt.axis('equal')\n",
    "            plt.show()\n",
    "        print (\"You can change the variables: eps and min_samples\")\n",
    "        print (\"Please increase eps if you get too many atoms or there are outliers\")\n",
    "        print (\"Please increase min_samples if you get too many atoms\")\n",
    "        eps_new = eps\n",
    "        min_samples_new = min_samples\n",
    "        print ('You chose eps =', eps_new, 'and min_samples =', min_samples_new)\n",
    "        eps = float(input(\"Type in the new eps that you want to test(0 to stop): \"))\n",
    "        min_samples = int(input(\"Type in the new min_samples that you want to test(0 to stop): \"))\n",
    "    xy = []\n",
    "    centers = np.zeros((atom,2))\n",
    "    for k in range(atom):\n",
    "        class_member_mask = (labels == k)\n",
    "        xy += [Data[class_member_mask & core_samples_mask]]\n",
    "        centers[k] = np.mean(Data[class_member_mask & core_samples_mask], axis = 0)\n",
    "    print ('The', atom, 'cluster centers are \\n', centers)\n",
    "    return atom, xy, noise, labels, centers, eps_new, min_samples_new\n",
    "\n",
    "def find_center_mul(Data_vxy, atom_max, onemore = 'y'):\n",
    "    \"\"\"\n",
    "    find the centers many times until you are happy.\n",
    "    \"\"\"\n",
    "    eps_new = 5\n",
    "    min_samples_new = 10\n",
    "    while onemore == 'y' or onemore == 'Y':\n",
    "        atom, xy, noise, labels, centers, eps_new, min_samples_new = find_center(Data_vxy, atom_max, min_samples_new, eps_new)\n",
    "        col = ['b', 'g', 'r', 'c', 'm'] * atom\n",
    "        fig = plt.figure()\n",
    "        for i in range(atom):\n",
    "            l1 = plt.scatter(xy[i][:,0], xy[i][:,1], s = 30)\n",
    "            l2 = plt.scatter(centers[:,0], centers[:,1], c = 'k', s = 5)\n",
    "            l3 = plt.scatter(noise[:,0], noise[:,1], c = 'r', s = 2)\n",
    "            plt.grid(True)\n",
    "            #plt.xlim(0, 1)\n",
    "            #plt.ylim(0, 1)\n",
    "            plt.axes().set_aspect('equal', 'datalim')\n",
    "        plt.title('Clustering of the MCMC result (samples_1.csv) for Sim')\n",
    "        plt.xlabel('Image plane x axis')\n",
    "        plt.ylabel('Image plane y axis')\n",
    "        plt.legend((l1, l2, l3),\n",
    "           ('Clusters', 'Centers', 'Noise'),\n",
    "           ncol=3,\n",
    "           fontsize=8)\n",
    "        fig.savefig('result_1.png')\n",
    "        plt.show()\n",
    "        onemore = str(input(\"Do you want to try one more time to find the cluster?(y/n)\\n\"))\n",
    "    return atom, xy, noise, labels, centers\n",
    "\n",
    "atom, xy, noise, labels, centers = find_center_mul(Data_vxy, atom_max)"
   ]
  },
  {
   "cell_type": "code",
   "execution_count": 32,
   "metadata": {
    "collapsed": false
   },
   "outputs": [
    {
     "data": {
      "image/png": "[encoded data removed]",
      "text/plain": [
       "<matplotlib.figure.Figure at 0x10c6169d0>"
      ]
     },
     "metadata": {},
     "output_type": "display_data"
    }
   ],
   "source": [
    "for i in range(atom):\n",
    "    plt.scatter(xy[i][:,0], xy[i][:,1], c = 'r', s = 10)\n",
    "    plt.scatter(centers[i,0], centers[i,1], c = 'k', s = 100, marker = '*')\n",
    "plt.show()\n"
   ]
  },
  {
   "cell_type": "markdown",
   "metadata": {},
   "source": [
    "## 3. Distance of the clusters"
   ]
  },
  {
   "cell_type": "code",
   "execution_count": 33,
   "metadata": {
    "collapsed": false
   },
   "outputs": [
    {
     "data": {
      "text/plain": [
       "8.9279562134162322"
      ]
     },
     "execution_count": 33,
     "metadata": {},
     "output_type": "execute_result"
    }
   ],
   "source": [
    "def distance(point1, point2):\n",
    "    \"\"\"\n",
    "    Euclidean distance from point1 and point2\n",
    "    >>>distance([0.1, 0.1], [0.2, 0.1])\n",
    "    >>>0.1\n",
    "    >>>distance([0.2, 0.1], [0.2, 0.1])\n",
    "    >>>0.0\n",
    "    \"\"\"\n",
    "    return np.abs((point1[0] - point2[0]) + complex(0,1)*(point1[1]- point2[1]))\n",
    "\n",
    "d = distance(centers[0], centers[1])\n",
    "d"
   ]
  },
  {
   "cell_type": "code",
   "execution_count": 43,
   "metadata": {
    "collapsed": false
   },
   "outputs": [
    {
     "data": {
      "text/plain": [
       "44.86343911283754"
      ]
     },
     "execution_count": 43,
     "metadata": {},
     "output_type": "execute_result"
    }
   ],
   "source": [
    "def angle_between(p1, p2):\n",
    "    p1x = p1[0]\n",
    "    p1y = p1[1]\n",
    "    p2x = p2[0]\n",
    "    p2y = p2[1]\n",
    "    ang = np.arctan((p1y - p2y)/(p1x - p2x))\n",
    "    return ang/np.pi*180\n",
    "\n",
    "ang = angle_between(centers[0], centers[1])\n",
    "ang"
   ]
  }
 ],
 "metadata": {
  "kernelspec": {
   "display_name": "Python 2",
   "language": "python",
   "name": "python2"
  },
  "language_info": {
   "codemirror_mode": {
    "name": "ipython",
    "version": 2
   },
   "file_extension": ".py",
   "mimetype": "text/x-python",
   "name": "python",
   "nbconvert_exporter": "python",
   "pygments_lexer": "ipython2",
   "version": "2.7.13"
  }
 },
 "nbformat": 4,
 "nbformat_minor": 2
}
